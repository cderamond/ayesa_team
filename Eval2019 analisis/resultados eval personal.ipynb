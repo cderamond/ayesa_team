{
 "cells": [
  {
   "cell_type": "markdown",
   "metadata": {},
   "source": [
    "# Revisión de los resultados evaluación personal\n",
    "\n",
    "*@cdderamond*"
   ]
  },
  {
   "cell_type": "markdown",
   "metadata": {
    "heading_collapsed": true
   },
   "source": [
    "## Preparación de los datos"
   ]
  },
  {
   "cell_type": "code",
   "execution_count": 98,
   "metadata": {
    "ExecuteTime": {
     "end_time": "2019-03-24T06:38:01.696775Z",
     "start_time": "2019-03-24T06:38:01.667311Z"
    },
    "hidden": true
   },
   "outputs": [],
   "source": [
    "import pandas as pd\n",
    "import numpy as np\n",
    "import matplotlib.pyplot as plt\n",
    "\n",
    "# traer el dato de excel\n",
    "data = pd.read_excel(r'tabulacion.xlsx', \n",
    "                     skiprows=1\n",
    "                    )\n",
    "#data.dtypes\n",
    "nro = data.shape[0]"
   ]
  },
  {
   "cell_type": "markdown",
   "metadata": {
    "hidden": true,
    "variables": {
     "nro": "11"
    }
   },
   "source": [
    "Cantidad de gente que respondió : **{{nro}}**"
   ]
  },
  {
   "cell_type": "code",
   "execution_count": 99,
   "metadata": {
    "ExecuteTime": {
     "end_time": "2019-03-24T06:38:01.769120Z",
     "start_time": "2019-03-24T06:38:01.714222Z"
    },
    "hidden": true
   },
   "outputs": [],
   "source": [
    "df = data.drop('persona', axis=1) #anonimato\n",
    "#separamos por interes, worries y positivos\n",
    "df_int = pd.melt(df.iloc[:,:7], var_name= 'Interest', value_name='Val_Interest')\n",
    "df_worry = pd.melt(df.iloc[:,8:-3], var_name= 'Worry', value_name='Val_Worry')\n",
    "df_happy = pd.melt(df.iloc[:,-2:], var_name= 'Happy', value_name='Val_Happy')\n",
    "# group\n",
    "df_int = (df_int.groupby('Interest').agg(np.sum)\n",
    "        .reset_index()\n",
    "         )\n",
    "df_worry = (df_worry.groupby('Worry').agg(np.sum)\n",
    "            .reset_index()\n",
    "           )\n",
    "df_happy = (df_happy.groupby('Happy').agg(np.sum)\n",
    "            .reset_index()\n",
    "           )"
   ]
  },
  {
   "cell_type": "markdown",
   "metadata": {},
   "source": [
    "## Intereses"
   ]
  },
  {
   "cell_type": "code",
   "execution_count": 100,
   "metadata": {
    "ExecuteTime": {
     "end_time": "2019-03-24T06:38:02.150912Z",
     "start_time": "2019-03-24T06:38:01.775109Z"
    }
   },
   "outputs": [
    {
     "data": {
      "text/plain": [
       "[]"
      ]
     },
     "execution_count": 100,
     "metadata": {},
     "output_type": "execute_result"
    },
    {
     "data": {
      "image/png": "[encoded data removed]",
      "text/plain": [
       "<Figure size 432x288 with 1 Axes>"
      ]
     },
     "metadata": {
      "needs_background": "light"
     },
     "output_type": "display_data"
    }
   ],
   "source": [
    "df_int.sort_values(by='Val_Interest',ascending=True).plot.barh(0,1).plot()"
   ]
  },
  {
   "cell_type": "markdown",
   "metadata": {},
   "source": [
    "## Worries"
   ]
  },
  {
   "cell_type": "code",
   "execution_count": 101,
   "metadata": {
    "ExecuteTime": {
     "end_time": "2019-03-24T06:38:02.599576Z",
     "start_time": "2019-03-24T06:38:02.155901Z"
    }
   },
   "outputs": [
    {
     "data": {
      "text/plain": [
       "[]"
      ]
     },
     "execution_count": 101,
     "metadata": {},
     "output_type": "execute_result"
    },
    {
     "data": {
      "image/png": "[encoded data removed]",
      "text/plain": [
       "<Figure size 432x288 with 1 Axes>"
      ]
     },
     "metadata": {
      "needs_background": "light"
     },
     "output_type": "display_data"
    }
   ],
   "source": [
    "df_worry.sort_values(by='Worry',ascending=True).plot.barh(0,1).plot()"
   ]
  },
  {
   "cell_type": "markdown",
   "metadata": {},
   "source": [
    "## Happy"
   ]
  },
  {
   "cell_type": "code",
   "execution_count": 102,
   "metadata": {
    "ExecuteTime": {
     "end_time": "2019-03-24T06:38:02.981367Z",
     "start_time": "2019-03-24T06:38:02.609059Z"
    }
   },
   "outputs": [
    {
     "data": {
      "text/plain": [
       "[]"
      ]
     },
     "execution_count": 102,
     "metadata": {},
     "output_type": "execute_result"
    },
    {
     "data": {
      "image/png": "[encoded data removed]",
      "text/plain": [
       "<Figure size 432x288 with 1 Axes>"
      ]
     },
     "metadata": {
      "needs_background": "light"
     },
     "output_type": "display_data"
    }
   ],
   "source": [
    "df_happy.sort_values(by='Happy',ascending=True).plot.barh(0,1).plot()"
   ]
  }
 ],
 "metadata": {
  "kernelspec": {
   "display_name": "Python 3",
   "language": "python",
   "name": "python3"
  },
  "language_info": {
   "codemirror_mode": {
    "name": "ipython",
    "version": 3
   },
   "file_extension": ".py",
   "mimetype": "text/x-python",
   "name": "python",
   "nbconvert_exporter": "python",
   "pygments_lexer": "ipython3",
   "version": "3.7.2"
  }
 },
 "nbformat": 4,
 "nbformat_minor": 2
}
